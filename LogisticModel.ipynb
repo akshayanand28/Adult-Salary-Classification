{
 "cells": [
  {
   "cell_type": "code",
   "execution_count": 11,
   "metadata": {},
   "outputs": [],
   "source": [
    "import pandas as pd\n",
    "import numpy as np\n",
    "import matplotlib.pyplot as plt\n",
    "%matplotlib inline"
   ]
  },
  {
   "cell_type": "code",
   "execution_count": 12,
   "metadata": {},
   "outputs": [],
   "source": [
    "def initialize_params(X):\n",
    "    n,m=X.shape\n",
    "    W=np.zeros((1,n))\n",
    "    b=0\n",
    "    return (W,b)"
   ]
  },
  {
   "cell_type": "code",
   "execution_count": 13,
   "metadata": {},
   "outputs": [
    {
     "name": "stdout",
     "output_type": "stream",
     "text": [
      "W =  [[0. 0. 0. 0. 0. 0. 0. 0. 0. 0. 0. 0. 0. 0.]]\n",
      "b =  0\n"
     ]
    },
    {
     "data": {
      "text/plain": [
       "(1, 14)"
      ]
     },
     "execution_count": 13,
     "metadata": {},
     "output_type": "execute_result"
    }
   ],
   "source": [
    "X = np.random.randn(14,29305)\n",
    "W,b = initialize_params(X)\n",
    "print('W = ', W)\n",
    "print('b = ',b)\n",
    "W.shape"
   ]
  },
  {
   "cell_type": "code",
   "execution_count": 14,
   "metadata": {},
   "outputs": [],
   "source": [
    "def sigmoid(Z):\n",
    "    sigmoid = None\n",
    "    return 1/(1+np.exp(-Z))"
   ]
  },
  {
   "cell_type": "code",
   "execution_count": 15,
   "metadata": {},
   "outputs": [],
   "source": [
    "def forward_prop(X,W,b):\n",
    "    Z = np.dot(W,X)+b\n",
    "    A = sigmoid(Z)  \n",
    "    forward_cache = (A,Z)\n",
    "    return forward_cache"
   ]
  },
  {
   "cell_type": "code",
   "execution_count": 16,
   "metadata": {},
   "outputs": [],
   "source": [
    "def compute_cost(A, Y):\n",
    "        for i in range (A.size):\n",
    "            if(A[0][i]==0):\n",
    "                A[0][i]=0.5\n",
    "            if(A[0][i]==1):\n",
    "                A[0][i]=0.5\n",
    "        m = A.shape[1]\n",
    "        cost = (np.dot(np.log(A),Y.T) + np.dot(np.log(1-A),(1-Y.T)))/(-m)\n",
    "        return np.squeeze(cost)"
   ]
  },
  {
   "cell_type": "code",
   "execution_count": 17,
   "metadata": {},
   "outputs": [],
   "source": [
    "def back_prop(X, Y, forward_cache):\n",
    "    m = X.shape[1]\n",
    "    A = forward_cache[0]\n",
    "    dZ = A - Y\n",
    "    dW = np.dot(X,dZ.T).T/m\n",
    "    db = np.sum(dZ)/m\n",
    "    backward_cache = (dW, db)\n",
    "    return backward_cache"
   ]
  },
  {
   "cell_type": "code",
   "execution_count": 18,
   "metadata": {},
   "outputs": [],
   "source": [
    "df = pd.read_csv('dataset.csv')"
   ]
  },
  {
   "cell_type": "code",
   "execution_count": 19,
   "metadata": {},
   "outputs": [],
   "source": [
    "ds=df.copy()\n",
    "ds['col6']=ds['col6'].fillna(ds['col6'].mode()[0])\n",
    "ds['col7']=ds['col7'].fillna(ds['col7'].mean())\n",
    "ds['col8']=ds['col8'].fillna(ds['col8'].mean())\n",
    "ds=ds.replace('a',1)\n",
    "ds=ds.replace('b',2)\n",
    "ds=ds.replace('c',3)\n",
    "ds=ds.replace('d',4)\n",
    "ds=ds.replace('e',5)\n",
    "ds=ds.replace('f',6)\n",
    "ds=ds.replace('g',7)\n",
    "ds['col3']=(ds['col3']-ds['col3'].min())/(ds['col3'].max()-ds['col3'].min())\n",
    "ds['col4']=(ds['col4']-ds['col4'].min())/(ds['col4'].max()-ds['col4'].min())\n",
    "ds['col5']=(ds['col5']-ds['col5'].min())/(ds['col5'].max()-ds['col5'].min())\n",
    "ds['col12']=(ds['col12']-ds['col12'].min())/(ds['col12'].max()-ds['col12'].min())\n",
    "ds['col13']=(ds['col13']-ds['col13'].min())/(ds['col13'].max()-ds['col13'].min())\n",
    "ds['col14']=(ds['col14']-ds['col14'].min())/(ds['col14'].max()-ds['col14'].min())\n",
    "ds=ds.loc[:29305,:]\n",
    "y = np.array(ds['target'])\n",
    "y = y.reshape((1,y.shape[0]))\n",
    "X = np.array([ds['col1'],ds['col2'],ds['col3'],ds['col4'],ds['col5'],ds['col6'],ds['col7'],ds['col8'],ds['col9'],ds['col10'],ds['col11'],ds['col12'],ds['col13'],ds['col14']])"
   ]
  },
  {
   "cell_type": "code",
   "execution_count": 20,
   "metadata": {},
   "outputs": [],
   "source": [
    "def logistic_regression_model(X, y, iterations=1500, alpha = 0.001):\n",
    "    m = X.shape[1]\n",
    "    n = X.shape[0]\n",
    "    W,b = initialize_params(X)\n",
    "    costs = []\n",
    "    iters = []\n",
    "    for i in range(iterations):\n",
    "        forward_cache = forward_prop(X,W,b)\n",
    "        A = forward_cache[0]\n",
    "        Z = forward_cache[1]\n",
    "        cost = compute_cost(A,y)\n",
    "        costs.append(cost)\n",
    "        iters.append(i+1)\n",
    "        if (i+1)%100==0:\n",
    "            print('Cost after ',(i+1),' iterations: ',cost)\n",
    "        backward_cache = back_prop(X,y,forward_cache)\n",
    "        dW = backward_cache[0]\n",
    "        db = backward_cache[1]\n",
    "        W = W - (alpha * dW)\n",
    "        b = b - (alpha * db)\n",
    "    return W,b,costs,iters"
   ]
  },
  {
   "cell_type": "code",
   "execution_count": 21,
   "metadata": {},
   "outputs": [
    {
     "name": "stdout",
     "output_type": "stream",
     "text": [
      "Cost after  100  iterations:  0.5289370692617313\n",
      "Cost after  200  iterations:  0.5222489236804291\n",
      "Cost after  300  iterations:  0.5178216523468507\n",
      "Cost after  400  iterations:  0.5145714614120841\n",
      "Cost after  500  iterations:  0.5120175200685058\n",
      "Cost after  600  iterations:  0.5099031049176509\n",
      "Cost after  700  iterations:  0.5080793694873877\n",
      "Cost after  800  iterations:  0.506456376246042\n",
      "Cost after  900  iterations:  0.5049782314269791\n",
      "Cost after  1000  iterations:  0.5036093023380346\n",
      "Cost after  1100  iterations:  0.5023262608354702\n",
      "Cost after  1200  iterations:  0.5011133826977551\n",
      "Cost after  1300  iterations:  0.4999597233607531\n",
      "Cost after  1400  iterations:  0.4988573965553319\n",
      "Cost after  1500  iterations:  0.49780051132524455\n",
      "[[-7.41901905e-04  3.83495571e+01  2.67115900e-01 -4.91125477e-02\n",
      "   9.90467276e-02 -7.90418086e-03  1.73752799e-01 -8.35925123e-02\n",
      "  -4.91413689e-01 -3.05304972e-01 -1.58833500e-01 -7.28907494e-03\n",
      "   2.07351672e-01  1.27792442e-01]] -0.04585460745593291\n"
     ]
    }
   ],
   "source": [
    "W,b,costs,iters = logistic_regression_model(X, y, iterations=1500,alpha = 0.01)\n",
    "print(W,b)"
   ]
  },
  {
   "cell_type": "code",
   "execution_count": 22,
   "metadata": {},
   "outputs": [],
   "source": [
    "def get_accuracy(W,b,X,y):\n",
    "    A,Z = forward_prop(X,W,b)\n",
    "    predicted = np.int32(A>=0.5)\n",
    "    difference = np.abs(y-predicted)\n",
    "    m = y.shape[1]\n",
    "    percentage_accuracy = (1 - (np.sum(difference)/m))*100\n",
    "    print('Accuracy: ',percentage_accuracy,'% ')"
   ]
  },
  {
   "cell_type": "code",
   "execution_count": 23,
   "metadata": {},
   "outputs": [
    {
     "name": "stdout",
     "output_type": "stream",
     "text": [
      "Accuracy:  76.29836893468914 % \n"
     ]
    }
   ],
   "source": [
    "get_accuracy(W,b,X,y)"
   ]
  },
  {
   "cell_type": "code",
   "execution_count": 24,
   "metadata": {},
   "outputs": [
    {
     "data": {
      "text/plain": [
       "[<matplotlib.lines.Line2D at 0x7f3cd14ba780>]"
      ]
     },
     "execution_count": 24,
     "metadata": {},
     "output_type": "execute_result"
    },
    {
     "data": {
      "image/png": "[encoded data removed]",
      "text/plain": [
       "<Figure size 432x288 with 1 Axes>"
      ]
     },
     "metadata": {
      "needs_background": "light"
     },
     "output_type": "display_data"
    }
   ],
   "source": [
    "plt.title('cost v/s iterations')\n",
    "plt.xlabel('iterations')\n",
    "plt.ylabel('cost J')\n",
    "plt.plot(iters,costs)"
   ]
  },
  {
   "cell_type": "code",
   "execution_count": 26,
   "metadata": {},
   "outputs": [],
   "source": [
    "df = pd.read_csv('dataset.csv')"
   ]
  },
  {
   "cell_type": "code",
   "execution_count": 27,
   "metadata": {},
   "outputs": [],
   "source": [
    "ds=df.copy()\n",
    "ds['col6']=ds['col6'].fillna(ds['col6'].mode()[0])\n",
    "ds['col7']=ds['col7'].fillna(ds['col7'].mean())\n",
    "ds['col8']=ds['col8'].fillna(ds['col8'].mean())\n",
    "ds=ds.replace('a',0)\n",
    "ds=ds.replace('b',1)\n",
    "ds=ds.replace('c',2)\n",
    "ds=ds.replace('d',3)\n",
    "ds=ds.replace('e',4)\n",
    "ds=ds.replace('f',5)\n",
    "ds=ds.replace('g',6)\n",
    "ds['col3']=(ds['col3']-ds['col3'].min())/(ds['col3'].max()-ds['col3'].min())\n",
    "ds['col4']=(ds['col4']-ds['col4'].min())/(ds['col4'].max()-ds['col4'].min())\n",
    "ds['col5']=(ds['col5']-ds['col5'].min())/(ds['col5'].max()-ds['col5'].min())\n",
    "ds['col12']=(ds['col12']-ds['col12'].min())/(ds['col12'].max()-ds['col12'].min())\n",
    "ds['col13']=(ds['col13']-ds['col13'].min())/(ds['col13'].max()-ds['col13'].min())\n",
    "ds['col14']=(ds['col14']-ds['col14'].min())/(ds['col14'].max()-ds['col14'].min())\n",
    "ds=ds.loc[29306:32562,:]\n",
    "y = np.array(ds['target'])\n",
    "y = y.reshape((1,y.shape[0]))\n",
    "X = np.array([ds['col1'],ds['col2'],ds['col3'],ds['col4'],ds['col5'],ds['col6'],ds['col7'],ds['col8'],ds['col9'],ds['col10'],ds['col11'],ds['col12'],ds['col13'],ds['col14']])"
   ]
  },
  {
   "cell_type": "code",
   "execution_count": 28,
   "metadata": {},
   "outputs": [
    {
     "name": "stdout",
     "output_type": "stream",
     "text": [
      "Accuracy:  74.59293394777265 % \n"
     ]
    }
   ],
   "source": [
    "get_accuracy(W,b,X,y)"
   ]
  },
  {
   "cell_type": "code",
   "execution_count": 30,
   "metadata": {},
   "outputs": [],
   "source": [
    "df = pd.read_csv('dataset.csv')"
   ]
  },
  {
   "cell_type": "code",
   "execution_count": 31,
   "metadata": {},
   "outputs": [],
   "source": [
    "ds=df.copy()\n",
    "ds['col6']=ds['col6'].fillna(ds['col6'].mode()[0])\n",
    "ds['col7']=ds['col7'].fillna(ds['col7'].mean())\n",
    "ds['col8']=ds['col8'].fillna(ds['col8'].mean())\n",
    "ds=ds.replace('a',1)\n",
    "ds=ds.replace('b',2)\n",
    "ds=ds.replace('c',3)\n",
    "ds=ds.replace('d',4)\n",
    "ds=ds.replace('e',5)\n",
    "ds=ds.replace('f',6)\n",
    "ds=ds.replace('g',7)\n",
    "ds['col3']=(ds['col3']-ds['col3'].min())/(ds['col3'].max()-ds['col3'].min())\n",
    "ds['col4']=(ds['col4']-ds['col4'].min())/(ds['col4'].max()-ds['col4'].min())\n",
    "ds['col5']=(ds['col5']-ds['col5'].min())/(ds['col5'].max()-ds['col5'].min())\n",
    "ds['col12']=(ds['col12']-ds['col12'].min())/(ds['col12'].max()-ds['col12'].min())\n",
    "ds['col13']=(ds['col13']-ds['col13'].min())/(ds['col13'].max()-ds['col13'].min())\n",
    "ds['col14']=(ds['col14']-ds['col14'].min())/(ds['col14'].max()-ds['col14'].min())\n",
    "ds=ds.loc[:29305,:]\n",
    "y = np.array(ds['target'])\n",
    "y = y.reshape((1,y.shape[0]))\n",
    "X = np.array([ds['col1'],ds['col2'],ds['col3'],ds['col4'],ds['col5'],ds['col6'],ds['col7'],ds['col8'],ds['col9'],ds['col10'],ds['col11'],ds['col12'],ds['col13'],ds['col14']])"
   ]
  },
  {
   "cell_type": "code",
   "execution_count": 32,
   "metadata": {},
   "outputs": [
    {
     "name": "stdout",
     "output_type": "stream",
     "text": [
      "Cost after  100  iterations:  0.5535005975766872\n",
      "Cost after  200  iterations:  0.5396836582938356\n",
      "Cost after  300  iterations:  0.5368383739662987\n",
      "Cost after  400  iterations:  0.5352553854470161\n",
      "Cost after  500  iterations:  0.5339497650085234\n",
      "Cost after  600  iterations:  0.5327735824840303\n",
      "Cost after  700  iterations:  0.5316919041709033\n",
      "Cost after  800  iterations:  0.5306882623564981\n",
      "Cost after  900  iterations:  0.5297512636710481\n",
      "Cost after  1000  iterations:  0.5288721945309122\n",
      "Cost after  1100  iterations:  0.5280441851412015\n",
      "Cost after  1200  iterations:  0.5272616976661556\n",
      "Cost after  1300  iterations:  0.5265201700147986\n",
      "Cost after  1400  iterations:  0.5258157682621151\n",
      "Cost after  1500  iterations:  0.5251452154957881\n",
      "[[-4.01150477e-02  3.82711790e+00  1.52306103e-02 -1.09013571e-02\n",
      "   1.02503308e-02 -1.46273621e-02 -1.28680335e-02 -8.73524400e-02\n",
      "  -9.67867634e-02 -1.64150973e-01 -5.06307854e-02 -3.46514481e-03\n",
      "   1.84649212e-02  6.29331971e-03]] -0.02700023890055199\n"
     ]
    }
   ],
   "source": [
    "W,b,costs,iters = logistic_regression_model(X, y, iterations=1500,alpha = 0.001)\n",
    "print(W,b)"
   ]
  },
  {
   "cell_type": "code",
   "execution_count": 33,
   "metadata": {},
   "outputs": [
    {
     "name": "stdout",
     "output_type": "stream",
     "text": [
      "Accuracy:  75.99808912850611 % \n"
     ]
    }
   ],
   "source": [
    "get_accuracy(W,b,X,y)"
   ]
  },
  {
   "cell_type": "code",
   "execution_count": 34,
   "metadata": {},
   "outputs": [
    {
     "data": {
      "text/plain": [
       "[<matplotlib.lines.Line2D at 0x7f3cd1413198>]"
      ]
     },
     "execution_count": 34,
     "metadata": {},
     "output_type": "execute_result"
    },
    {
     "data": {
      "image/png": "[encoded data removed]",
      "text/plain": [
       "<Figure size 432x288 with 1 Axes>"
      ]
     },
     "metadata": {
      "needs_background": "light"
     },
     "output_type": "display_data"
    }
   ],
   "source": [
    "plt.title('cost v/s iterations')\n",
    "plt.xlabel('iterations')\n",
    "plt.ylabel('cost J')\n",
    "plt.plot(iters,costs)"
   ]
  },
  {
   "cell_type": "code",
   "execution_count": 36,
   "metadata": {},
   "outputs": [],
   "source": [
    "df = pd.read_csv('dataset.csv')"
   ]
  },
  {
   "cell_type": "code",
   "execution_count": 40,
   "metadata": {},
   "outputs": [],
   "source": [
    "ds=df.copy()\n",
    "ds['col6']=ds['col6'].fillna(ds['col6'].mode()[0])\n",
    "ds['col7']=ds['col7'].fillna(ds['col7'].mean())\n",
    "ds['col8']=ds['col8'].fillna(ds['col8'].mean())\n",
    "ds=ds.replace('a',0)\n",
    "ds=ds.replace('b',1)\n",
    "ds=ds.replace('c',2)\n",
    "ds=ds.replace('d',3)\n",
    "ds=ds.replace('e',4)\n",
    "ds=ds.replace('f',5)\n",
    "ds=ds.replace('g',6)\n",
    "ds['col3']=(ds['col3']-ds['col3'].min())/(ds['col3'].max()-ds['col3'].min())\n",
    "ds['col4']=(ds['col4']-ds['col4'].min())/(ds['col4'].max()-ds['col4'].min())\n",
    "ds['col5']=(ds['col5']-ds['col5'].min())/(ds['col5'].max()-ds['col5'].min())\n",
    "ds['col12']=(ds['col12']-ds['col12'].min())/(ds['col12'].max()-ds['col12'].min())\n",
    "ds['col13']=(ds['col13']-ds['col13'].min())/(ds['col13'].max()-ds['col13'].min())\n",
    "ds['col14']=(ds['col14']-ds['col14'].min())/(ds['col14'].max()-ds['col14'].min())\n",
    "ds=ds.loc[29306:32562,:]\n",
    "y = np.array(ds['target'])\n",
    "y = y.reshape((1,y.shape[0]))\n",
    "X = np.array([ds['col1'],ds['col2'],ds['col3'],ds['col4'],ds['col5'],ds['col6'],ds['col7'],ds['col8'],ds['col9'],ds['col10'],ds['col11'],ds['col12'],ds['col13'],ds['col14']])"
   ]
  },
  {
   "cell_type": "code",
   "execution_count": 41,
   "metadata": {},
   "outputs": [
    {
     "name": "stdout",
     "output_type": "stream",
     "text": [
      "Accuracy:  76.036866359447 % \n"
     ]
    }
   ],
   "source": [
    "get_accuracy(W,b,X,y)"
   ]
  },
  {
   "cell_type": "code",
   "execution_count": 42,
   "metadata": {},
   "outputs": [],
   "source": [
    "df = pd.read_csv('dataset.csv')"
   ]
  },
  {
   "cell_type": "code",
   "execution_count": 43,
   "metadata": {},
   "outputs": [],
   "source": [
    "ds=df.copy()\n",
    "ds['col6']=ds['col6'].fillna(ds['col6'].mode()[0])\n",
    "ds['col7']=ds['col7'].fillna(ds['col7'].mean())\n",
    "ds['col8']=ds['col8'].fillna(ds['col8'].mean())\n",
    "ds=ds.replace('a',1)\n",
    "ds=ds.replace('b',2)\n",
    "ds=ds.replace('c',3)\n",
    "ds=ds.replace('d',4)\n",
    "ds=ds.replace('e',5)\n",
    "ds=ds.replace('f',6)\n",
    "ds=ds.replace('g',7)\n",
    "ds['col3']=(ds['col3']-ds['col3'].min())/(ds['col3'].max()-ds['col3'].min())\n",
    "ds['col4']=(ds['col4']-ds['col4'].min())/(ds['col4'].max()-ds['col4'].min())\n",
    "ds['col5']=(ds['col5']-ds['col5'].min())/(ds['col5'].max()-ds['col5'].min())\n",
    "ds['col12']=(ds['col12']-ds['col12'].min())/(ds['col12'].max()-ds['col12'].min())\n",
    "ds['col13']=(ds['col13']-ds['col13'].min())/(ds['col13'].max()-ds['col13'].min())\n",
    "ds['col14']=(ds['col14']-ds['col14'].min())/(ds['col14'].max()-ds['col14'].min())\n",
    "ds=ds.loc[:29305,:]\n",
    "y = np.array(ds['target'])\n",
    "y = y.reshape((1,y.shape[0]))\n",
    "X = np.array([ds['col1'],ds['col2'],ds['col3'],ds['col4'],ds['col5'],ds['col6'],ds['col7'],ds['col8'],ds['col9'],ds['col10'],ds['col11'],ds['col12'],ds['col13'],ds['col14']])"
   ]
  },
  {
   "cell_type": "code",
   "execution_count": 44,
   "metadata": {},
   "outputs": [
    {
     "name": "stdout",
     "output_type": "stream",
     "text": [
      "Cost after  100  iterations:  0.5289370692617313\n",
      "Cost after  200  iterations:  0.5222489236804291\n",
      "Cost after  300  iterations:  0.5178216523468507\n",
      "Cost after  400  iterations:  0.5145714614120841\n",
      "Cost after  500  iterations:  0.5120175200685058\n",
      "Cost after  600  iterations:  0.5099031049176509\n",
      "Cost after  700  iterations:  0.5080793694873877\n",
      "Cost after  800  iterations:  0.506456376246042\n",
      "Cost after  900  iterations:  0.5049782314269791\n",
      "Cost after  1000  iterations:  0.5036093023380346\n",
      "Cost after  1100  iterations:  0.5023262608354702\n",
      "Cost after  1200  iterations:  0.5011133826977551\n",
      "Cost after  1300  iterations:  0.4999597233607531\n",
      "Cost after  1400  iterations:  0.4988573965553319\n",
      "Cost after  1500  iterations:  0.49780051132524455\n",
      "[[-7.41901905e-04  3.83495571e+01  2.67115900e-01 -4.91125477e-02\n",
      "   9.90467276e-02 -7.90418086e-03  1.73752799e-01 -8.35925123e-02\n",
      "  -4.91413689e-01 -3.05304972e-01 -1.58833500e-01 -7.28907494e-03\n",
      "   2.07351672e-01  1.27792442e-01]] -0.04585460745593291\n"
     ]
    }
   ],
   "source": [
    "W,b,costs,iters = logistic_regression_model(X, y, iterations=1500,alpha = 0.01)\n",
    "print(W,b)"
   ]
  },
  {
   "cell_type": "code",
   "execution_count": 45,
   "metadata": {},
   "outputs": [
    {
     "name": "stdout",
     "output_type": "stream",
     "text": [
      "Accuracy:  76.29836893468914 % \n"
     ]
    }
   ],
   "source": [
    "get_accuracy(W,b,X,y)"
   ]
  },
  {
   "cell_type": "code",
   "execution_count": 46,
   "metadata": {},
   "outputs": [
    {
     "data": {
      "text/plain": [
       "[<matplotlib.lines.Line2D at 0x7f3cd1375470>]"
      ]
     },
     "execution_count": 46,
     "metadata": {},
     "output_type": "execute_result"
    },
    {
     "data": {
      "image/png": "[encoded data removed]",
      "text/plain": [
       "<Figure size 432x288 with 1 Axes>"
      ]
     },
     "metadata": {
      "needs_background": "light"
     },
     "output_type": "display_data"
    }
   ],
   "source": [
    "plt.title('cost v/s iterations')\n",
    "plt.xlabel('iterations')\n",
    "plt.ylabel('cost J')\n",
    "plt.plot(iters,costs)"
   ]
  },
  {
   "cell_type": "code",
   "execution_count": 47,
   "metadata": {},
   "outputs": [],
   "source": [
    "df = pd.read_csv('dataset.csv')"
   ]
  },
  {
   "cell_type": "code",
   "execution_count": 48,
   "metadata": {},
   "outputs": [],
   "source": [
    "ds=df.copy()\n",
    "ds['col6']=ds['col6'].fillna(ds['col6'].mode()[0])\n",
    "ds['col7']=ds['col7'].fillna(ds['col7'].mean())\n",
    "ds['col8']=ds['col8'].fillna(ds['col8'].mean())\n",
    "ds=ds.replace('a',0)\n",
    "ds=ds.replace('b',1)\n",
    "ds=ds.replace('c',2)\n",
    "ds=ds.replace('d',3)\n",
    "ds=ds.replace('e',4)\n",
    "ds=ds.replace('f',5)\n",
    "ds=ds.replace('g',6)\n",
    "ds['col3']=(ds['col3']-ds['col3'].min())/(ds['col3'].max()-ds['col3'].min())\n",
    "ds['col4']=(ds['col4']-ds['col4'].min())/(ds['col4'].max()-ds['col4'].min())\n",
    "ds['col5']=(ds['col5']-ds['col5'].min())/(ds['col5'].max()-ds['col5'].min())\n",
    "ds['col12']=(ds['col12']-ds['col12'].min())/(ds['col12'].max()-ds['col12'].min())\n",
    "ds['col13']=(ds['col13']-ds['col13'].min())/(ds['col13'].max()-ds['col13'].min())\n",
    "ds['col14']=(ds['col14']-ds['col14'].min())/(ds['col14'].max()-ds['col14'].min())\n",
    "ds=ds.loc[29306:32562,:]\n",
    "y = np.array(ds['target'])\n",
    "y = y.reshape((1,y.shape[0]))\n",
    "X = np.array([ds['col1'],ds['col2'],ds['col3'],ds['col4'],ds['col5'],ds['col6'],ds['col7'],ds['col8'],ds['col9'],ds['col10'],ds['col11'],ds['col12'],ds['col13'],ds['col14']])"
   ]
  },
  {
   "cell_type": "code",
   "execution_count": 49,
   "metadata": {},
   "outputs": [
    {
     "name": "stdout",
     "output_type": "stream",
     "text": [
      "Accuracy:  74.59293394777265 % \n"
     ]
    }
   ],
   "source": [
    "get_accuracy(W,b,X,y)"
   ]
  },
  {
   "cell_type": "code",
   "execution_count": 50,
   "metadata": {},
   "outputs": [],
   "source": [
    "df = pd.read_csv('dataset.csv')"
   ]
  },
  {
   "cell_type": "code",
   "execution_count": 51,
   "metadata": {},
   "outputs": [],
   "source": [
    "ds=df.copy()\n",
    "ds['col6']=ds['col6'].fillna(ds['col6'].mode()[0])\n",
    "ds['col7']=ds['col7'].fillna(ds['col7'].mean())\n",
    "ds['col8']=ds['col8'].fillna(ds['col8'].mean())\n",
    "ds=ds.replace('a',1)\n",
    "ds=ds.replace('b',2)\n",
    "ds=ds.replace('c',3)\n",
    "ds=ds.replace('d',4)\n",
    "ds=ds.replace('e',5)\n",
    "ds=ds.replace('f',6)\n",
    "ds=ds.replace('g',7)\n",
    "ds['col3']=(ds['col3']-ds['col3'].min())/(ds['col3'].max()-ds['col3'].min())\n",
    "ds['col4']=(ds['col4']-ds['col4'].min())/(ds['col4'].max()-ds['col4'].min())\n",
    "ds['col5']=(ds['col5']-ds['col5'].min())/(ds['col5'].max()-ds['col5'].min())\n",
    "ds['col12']=(ds['col12']-ds['col12'].min())/(ds['col12'].max()-ds['col12'].min())\n",
    "ds['col13']=(ds['col13']-ds['col13'].min())/(ds['col13'].max()-ds['col13'].min())\n",
    "ds['col14']=(ds['col14']-ds['col14'].min())/(ds['col14'].max()-ds['col14'].min())\n",
    "ds=ds.loc[:29305,:]\n",
    "y = np.array(ds['target'])\n",
    "y = y.reshape((1,y.shape[0]))\n",
    "X = np.array([ds['col1'],ds['col2'],ds['col3'],ds['col4'],ds['col5'],ds['col6'],ds['col7'],ds['col8'],ds['col9'],ds['col10'],ds['col11'],ds['col12'],ds['col13'],ds['col14']])"
   ]
  },
  {
   "cell_type": "code",
   "execution_count": 52,
   "metadata": {},
   "outputs": [
    {
     "name": "stdout",
     "output_type": "stream",
     "text": [
      "Cost after  100  iterations:  0.5535005975766872\n",
      "Cost after  200  iterations:  0.5396836582938356\n",
      "Cost after  300  iterations:  0.5368383739662987\n",
      "Cost after  400  iterations:  0.5352553854470161\n",
      "Cost after  500  iterations:  0.5339497650085234\n",
      "Cost after  600  iterations:  0.5327735824840303\n",
      "Cost after  700  iterations:  0.5316919041709033\n",
      "Cost after  800  iterations:  0.5306882623564981\n",
      "Cost after  900  iterations:  0.5297512636710481\n",
      "Cost after  1000  iterations:  0.5288721945309122\n",
      "Cost after  1100  iterations:  0.5280441851412015\n",
      "Cost after  1200  iterations:  0.5272616976661556\n",
      "Cost after  1300  iterations:  0.5265201700147986\n",
      "Cost after  1400  iterations:  0.5258157682621151\n",
      "Cost after  1500  iterations:  0.5251452154957881\n",
      "[[-4.01150477e-02  3.82711790e+00  1.52306103e-02 -1.09013571e-02\n",
      "   1.02503308e-02 -1.46273621e-02 -1.28680335e-02 -8.73524400e-02\n",
      "  -9.67867634e-02 -1.64150973e-01 -5.06307854e-02 -3.46514481e-03\n",
      "   1.84649212e-02  6.29331971e-03]] -0.02700023890055199\n"
     ]
    }
   ],
   "source": [
    "W,b,costs,iters = logistic_regression_model(X, y, iterations=1500,alpha = 0.001)\n",
    "print(W,b)"
   ]
  },
  {
   "cell_type": "code",
   "execution_count": 53,
   "metadata": {},
   "outputs": [
    {
     "name": "stdout",
     "output_type": "stream",
     "text": [
      "Accuracy:  75.99808912850611 % \n"
     ]
    }
   ],
   "source": [
    "get_accuracy(W,b,X,y)"
   ]
  },
  {
   "cell_type": "code",
   "execution_count": 54,
   "metadata": {},
   "outputs": [
    {
     "data": {
      "text/plain": [
       "[<matplotlib.lines.Line2D at 0x7f3cd13e65c0>]"
      ]
     },
     "execution_count": 54,
     "metadata": {},
     "output_type": "execute_result"
    },
    {
     "data": {
      "image/png": "[encoded data removed]",
      "text/plain": [
       "<Figure size 432x288 with 1 Axes>"
      ]
     },
     "metadata": {
      "needs_background": "light"
     },
     "output_type": "display_data"
    }
   ],
   "source": [
    "plt.title('cost v/s iterations')\n",
    "plt.xlabel('iterations')\n",
    "plt.ylabel('cost J')\n",
    "plt.plot(iters,costs)"
   ]
  },
  {
   "cell_type": "code",
   "execution_count": 55,
   "metadata": {},
   "outputs": [],
   "source": [
    "df = pd.read_csv('dataset.csv')"
   ]
  },
  {
   "cell_type": "code",
   "execution_count": 56,
   "metadata": {},
   "outputs": [],
   "source": [
    "ds=df.copy()\n",
    "ds['col6']=ds['col6'].fillna(ds['col6'].mode()[0])\n",
    "ds['col7']=ds['col7'].fillna(ds['col7'].mean())\n",
    "ds['col8']=ds['col8'].fillna(ds['col8'].mean())\n",
    "ds=ds.replace('a',0)\n",
    "ds=ds.replace('b',1)\n",
    "ds=ds.replace('c',2)\n",
    "ds=ds.replace('d',3)\n",
    "ds=ds.replace('e',4)\n",
    "ds=ds.replace('f',5)\n",
    "ds=ds.replace('g',6)\n",
    "ds['col3']=(ds['col3']-ds['col3'].min())/(ds['col3'].max()-ds['col3'].min())\n",
    "ds['col4']=(ds['col4']-ds['col4'].min())/(ds['col4'].max()-ds['col4'].min())\n",
    "ds['col5']=(ds['col5']-ds['col5'].min())/(ds['col5'].max()-ds['col5'].min())\n",
    "ds['col12']=(ds['col12']-ds['col12'].min())/(ds['col12'].max()-ds['col12'].min())\n",
    "ds['col13']=(ds['col13']-ds['col13'].min())/(ds['col13'].max()-ds['col13'].min())\n",
    "ds['col14']=(ds['col14']-ds['col14'].min())/(ds['col14'].max()-ds['col14'].min())\n",
    "ds=ds.loc[29306:32562,:]\n",
    "y = np.array(ds['target'])\n",
    "y = y.reshape((1,y.shape[0]))\n",
    "X = np.array([ds['col1'],ds['col2'],ds['col3'],ds['col4'],ds['col5'],ds['col6'],ds['col7'],ds['col8'],ds['col9'],ds['col10'],ds['col11'],ds['col12'],ds['col13'],ds['col14']])"
   ]
  },
  {
   "cell_type": "code",
   "execution_count": 57,
   "metadata": {},
   "outputs": [
    {
     "name": "stdout",
     "output_type": "stream",
     "text": [
      "Accuracy:  76.036866359447 % \n"
     ]
    }
   ],
   "source": [
    "get_accuracy(W,b,X,y)"
   ]
  },
  {
   "cell_type": "code",
   "execution_count": 58,
   "metadata": {},
   "outputs": [],
   "source": [
    "df = pd.read_csv('dataset.csv')"
   ]
  },
  {
   "cell_type": "code",
   "execution_count": 59,
   "metadata": {},
   "outputs": [],
   "source": [
    "ds=df.copy()\n",
    "ds['col6']=ds['col6'].fillna(ds['col6'].mode()[0])\n",
    "ds['col7']=ds['col7'].fillna(ds['col7'].mean())\n",
    "ds['col8']=ds['col8'].fillna(ds['col8'].mean())\n",
    "ds=ds.replace('a',1)\n",
    "ds=ds.replace('b',2)\n",
    "ds=ds.replace('c',3)\n",
    "ds=ds.replace('d',4)\n",
    "ds=ds.replace('e',5)\n",
    "ds=ds.replace('f',6)\n",
    "ds=ds.replace('g',7)\n",
    "ds['col3']=(ds['col3']-ds['col3'].min())/(ds['col3'].max()-ds['col3'].min())\n",
    "ds['col4']=(ds['col4']-ds['col4'].min())/(ds['col4'].max()-ds['col4'].min())\n",
    "ds['col5']=(ds['col5']-ds['col5'].min())/(ds['col5'].max()-ds['col5'].min())\n",
    "ds['col12']=(ds['col12']-ds['col12'].min())/(ds['col12'].max()-ds['col12'].min())\n",
    "ds['col13']=(ds['col13']-ds['col13'].min())/(ds['col13'].max()-ds['col13'].min())\n",
    "ds['col14']=(ds['col14']-ds['col14'].min())/(ds['col14'].max()-ds['col14'].min())\n",
    "ds=ds.loc[:29305,:]\n",
    "y = np.array(ds['target'])\n",
    "y = y.reshape((1,y.shape[0]))\n",
    "X = np.array([ds['col1'],ds['col2'],ds['col3'],ds['col4'],ds['col5'],ds['col6'],ds['col7'],ds['col8'],ds['col9'],ds['col10'],ds['col11'],ds['col12'],ds['col13'],ds['col14']])"
   ]
  },
  {
   "cell_type": "code",
   "execution_count": 60,
   "metadata": {},
   "outputs": [
    {
     "name": "stdout",
     "output_type": "stream",
     "text": [
      "Cost after  100  iterations:  0.5535005975766872\n",
      "Cost after  200  iterations:  0.5396836582938356\n",
      "Cost after  300  iterations:  0.5368383739662987\n",
      "Cost after  400  iterations:  0.5352553854470161\n",
      "Cost after  500  iterations:  0.5339497650085234\n",
      "Cost after  600  iterations:  0.5327735824840303\n",
      "Cost after  700  iterations:  0.5316919041709033\n",
      "Cost after  800  iterations:  0.5306882623564981\n",
      "Cost after  900  iterations:  0.5297512636710481\n",
      "Cost after  1000  iterations:  0.5288721945309122\n",
      "Cost after  1100  iterations:  0.5280441851412015\n",
      "Cost after  1200  iterations:  0.5272616976661556\n",
      "Cost after  1300  iterations:  0.5265201700147986\n",
      "Cost after  1400  iterations:  0.5258157682621151\n",
      "Cost after  1500  iterations:  0.5251452154957881\n",
      "[[-4.01150477e-02  3.82711790e+00  1.52306103e-02 -1.09013571e-02\n",
      "   1.02503308e-02 -1.46273621e-02 -1.28680335e-02 -8.73524400e-02\n",
      "  -9.67867634e-02 -1.64150973e-01 -5.06307854e-02 -3.46514481e-03\n",
      "   1.84649212e-02  6.29331971e-03]] -0.02700023890055199\n"
     ]
    }
   ],
   "source": [
    "W,b,costs,iters = logistic_regression_model(X, y, iterations=1500,alpha = 0.001)\n",
    "print(W,b)"
   ]
  },
  {
   "cell_type": "code",
   "execution_count": 61,
   "metadata": {},
   "outputs": [
    {
     "name": "stdout",
     "output_type": "stream",
     "text": [
      "Accuracy:  75.99808912850611 % \n"
     ]
    }
   ],
   "source": [
    "get_accuracy(W,b,X,y)"
   ]
  },
  {
   "cell_type": "code",
   "execution_count": 62,
   "metadata": {},
   "outputs": [
    {
     "data": {
      "text/plain": [
       "[<matplotlib.lines.Line2D at 0x7f3cd12d2438>]"
      ]
     },
     "execution_count": 62,
     "metadata": {},
     "output_type": "execute_result"
    },
    {
     "data": {
      "image/png": "[encoded data removed]",
      "text/plain": [
       "<Figure size 432x288 with 1 Axes>"
      ]
     },
     "metadata": {
      "needs_background": "light"
     },
     "output_type": "display_data"
    }
   ],
   "source": [
    "plt.title('cost v/s iterations')\n",
    "plt.xlabel('iterations')\n",
    "plt.ylabel('cost J')\n",
    "plt.plot(iters,costs)"
   ]
  },
  {
   "cell_type": "code",
   "execution_count": 63,
   "metadata": {},
   "outputs": [],
   "source": [
    "df = pd.read_csv('dataset.csv')"
   ]
  },
  {
   "cell_type": "code",
   "execution_count": 64,
   "metadata": {},
   "outputs": [],
   "source": [
    "ds=df.copy()\n",
    "ds['col6']=ds['col6'].fillna(ds['col6'].mode()[0])\n",
    "ds['col7']=ds['col7'].fillna(ds['col7'].mean())\n",
    "ds['col8']=ds['col8'].fillna(ds['col8'].mean())\n",
    "ds=ds.replace('a',0)\n",
    "ds=ds.replace('b',1)\n",
    "ds=ds.replace('c',2)\n",
    "ds=ds.replace('d',3)\n",
    "ds=ds.replace('e',4)\n",
    "ds=ds.replace('f',5)\n",
    "ds=ds.replace('g',6)\n",
    "ds['col3']=(ds['col3']-ds['col3'].min())/(ds['col3'].max()-ds['col3'].min())\n",
    "ds['col4']=(ds['col4']-ds['col4'].min())/(ds['col4'].max()-ds['col4'].min())\n",
    "ds['col5']=(ds['col5']-ds['col5'].min())/(ds['col5'].max()-ds['col5'].min())\n",
    "ds['col12']=(ds['col12']-ds['col12'].min())/(ds['col12'].max()-ds['col12'].min())\n",
    "ds['col13']=(ds['col13']-ds['col13'].min())/(ds['col13'].max()-ds['col13'].min())\n",
    "ds['col14']=(ds['col14']-ds['col14'].min())/(ds['col14'].max()-ds['col14'].min())\n",
    "ds=ds.loc[29306:32562,:]\n",
    "y = np.array(ds['target'])\n",
    "y = y.reshape((1,y.shape[0]))\n",
    "X = np.array([ds['col1'],ds['col2'],ds['col3'],ds['col4'],ds['col5'],ds['col6'],ds['col7'],ds['col8'],ds['col9'],ds['col10'],ds['col11'],ds['col12'],ds['col13'],ds['col14']])"
   ]
  },
  {
   "cell_type": "code",
   "execution_count": 65,
   "metadata": {},
   "outputs": [
    {
     "name": "stdout",
     "output_type": "stream",
     "text": [
      "Accuracy:  76.036866359447 % \n"
     ]
    }
   ],
   "source": [
    "get_accuracy(W,b,X,y)"
   ]
  }
 ],
 "metadata": {
  "kernelspec": {
   "display_name": "Python 3",
   "language": "python",
   "name": "python3"
  },
  "language_info": {
   "codemirror_mode": {
    "name": "ipython",
    "version": 3
   },
   "file_extension": ".py",
   "mimetype": "text/x-python",
   "name": "python",
   "nbconvert_exporter": "python",
   "pygments_lexer": "ipython3",
   "version": "3.7.0"
  }
 },
 "nbformat": 4,
 "nbformat_minor": 2
}
